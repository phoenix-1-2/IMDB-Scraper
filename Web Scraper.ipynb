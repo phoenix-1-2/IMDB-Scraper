{
 "cells": [
  {
   "cell_type": "markdown",
   "metadata": {},
   "source": [
    "# Top 50 Movies & Shows of Every Genre"
   ]
  },
  {
   "cell_type": "code",
   "execution_count": 1,
   "metadata": {},
   "outputs": [],
   "source": [
    "# Loading Essential File\n",
    "from bs4 import BeautifulSoup\n",
    "from selenium import webdriver\n",
    "import pandas as pd\n",
    "import re\n",
    "from selenium.webdriver.common.by import By \n",
    "from selenium.webdriver.support.ui import WebDriverWait \n",
    "from selenium.webdriver.support import expected_conditions as EC "
   ]
  },
  {
   "cell_type": "code",
   "execution_count": 2,
   "metadata": {},
   "outputs": [],
   "source": [
    "driver = webdriver.Chrome('ChromeDriver/chromedriver')"
   ]
  },
  {
   "cell_type": "code",
   "execution_count": 3,
   "metadata": {},
   "outputs": [],
   "source": [
    "driver.get('https://www.imdb.com/feature/genre/')"
   ]
  },
  {
   "cell_type": "code",
   "execution_count": 5,
   "metadata": {},
   "outputs": [],
   "source": [
    "all_genres = driver.find_elements_by_class_name('image')\n",
    "i =0\n",
    "while i< len(all_genres):\n",
    "    dataFrame = {\n",
    "        'Title':[],\n",
    "        'Year':[],\n",
    "        'Rating':[]\n",
    "    }\n",
    "    WebDriverWait(driver, 10).until(EC.presence_of_element_located((By.CLASS_NAME, \"image\"))) \n",
    "    all_genres = driver.find_elements_by_class_name('image')\n",
    "    all_genres[i].find_element_by_tag_name('a').click()\n",
    "    WebDriverWait(driver, 10).until(EC.presence_of_element_located((By.CLASS_NAME, \"ratings-bar\")))\n",
    "    data = BeautifulSoup( driver.page_source)\n",
    "    Genre_Title = data.find(class_ = 'header').string\n",
    "    driver.execute_script(\"window.scrollTo(0, document.body.scrollHeight);\")\n",
    "    boxes = data.find_all(class_ = 'lister-item-content')\n",
    "    for box in boxes:\n",
    "        title = box.find(class_ = 'lister-item-header').find('a').string.strip()\n",
    "        rating = box.strong\n",
    "        if rating is not None:\n",
    "            rating = rating.string.strip()\n",
    "        year = box.find(class_ = 'lister-item-year')\n",
    "        if year is not None : \n",
    "            year = year.string\n",
    "        dataFrame['Title'].append(title)\n",
    "        dataFrame['Year'].append(year)\n",
    "        dataFrame['Rating'].append(rating)\n",
    "    df = pd.DataFrame(dataFrame)\n",
    "    df.to_csv('Movie List/'+Genre_Title.strip()+\".csv\")\n",
    "    driver.back()\n",
    "    i+=1"
   ]
  },
  {
   "cell_type": "code",
   "execution_count": null,
   "metadata": {},
   "outputs": [],
   "source": []
  }
 ],
 "metadata": {
  "kernelspec": {
   "display_name": "Python 3",
   "language": "python",
   "name": "python3"
  },
  "language_info": {
   "codemirror_mode": {
    "name": "ipython",
    "version": 3
   },
   "file_extension": ".py",
   "mimetype": "text/x-python",
   "name": "python",
   "nbconvert_exporter": "python",
   "pygments_lexer": "ipython3",
   "version": "3.8.3"
  }
 },
 "nbformat": 4,
 "nbformat_minor": 4
}
